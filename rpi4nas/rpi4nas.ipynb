{
 "cells": [
  {
   "cell_type": "code",
   "execution_count": 9,
   "metadata": {},
   "outputs": [
    {
     "name": "stdout",
     "output_type": "stream",
     "text": [
      "architecture                                              x86_64\n",
      "cpu_cores                                                      6\n",
      "cpu_cpu_use                                                  8.6\n",
      "cpu_current_speed                                        1429.47\n",
      "cpu_max_speed                                               3600\n",
      "cpu_min_speed                                               1200\n",
      "cpu_threads                                                   12\n",
      "hostname                                               ubuntu-pc\n",
      "ip-address                                             127.0.1.1\n",
      "platform                                                   Linux\n",
      "platform-release                                5.4.0-66-generic\n",
      "platform-version     #74-Ubuntu SMP Wed Jan 27 22:54:38 UTC 2021\n",
      "processor               Intel(R) Core(TM) i7-5820K CPU @ 3.30GHz\n",
      "ram_available                                        13189767168\n",
      "ram_total                                            16684892160\n",
      "ram_used                                              3103150080\n",
      "sw_go_version                               go1.13.8 linux/amd64\n",
      "sw_python_version                         3.8.5.final.0 (64 bit)\n",
      "swap_free                                             2147479552\n",
      "swap_total                                            2147479552\n",
      "swap_used                                                      0\n",
      "dtype: object\n"
     ]
    }
   ],
   "source": [
    "# Read json from disk (an array of dicts)\n",
    "# then pretty print the object read from json\n",
    "\n",
    "import json\n",
    "import pprint\n",
    "import pandas as pd\n",
    "path = \"./\"\n",
    "file2 = path + \"platform_info.json\"\n",
    "\n",
    "with open(file2) as f:\n",
    "  data = json.load(f)    \n",
    "    \n",
    "#myarray=data[\"Records\"]\n",
    "    \n",
    "# add pretty print\n",
    "#pretty_out = pprint.pformat(data)\n",
    "#print(pretty_out)\n",
    "\n",
    "df = pd.Series(data) \n",
    "print(df)"
   ]
  },
  {
   "cell_type": "code",
   "execution_count": null,
   "metadata": {},
   "outputs": [],
   "source": []
  }
 ],
 "metadata": {
  "kernelspec": {
   "display_name": "Python 3",
   "language": "python",
   "name": "python3"
  },
  "language_info": {
   "codemirror_mode": {
    "name": "ipython",
    "version": 3
   },
   "file_extension": ".py",
   "mimetype": "text/x-python",
   "name": "python",
   "nbconvert_exporter": "python",
   "pygments_lexer": "ipython3",
   "version": "3.8.5"
  }
 },
 "nbformat": 4,
 "nbformat_minor": 4
}
